{
 "cells": [
  {
   "cell_type": "code",
   "execution_count": null,
   "id": "ffc11ea0",
   "metadata": {},
   "outputs": [],
   "source": []
  },
  {
   "cell_type": "code",
   "execution_count": null,
   "id": "9691c916",
   "metadata": {},
   "outputs": [],
   "source": []
  },
  {
   "cell_type": "code",
   "execution_count": 1,
   "id": "ad942a44",
   "metadata": {},
   "outputs": [
    {
     "name": "stdout",
     "output_type": "stream",
     "text": [
      "current_file_dir: c:\\Users\\ecosa\\python_uv_mkdocs\\notebooks\n",
      "parent_dir: c:\\Users\\ecosa\\python_uv_mkdocs\n",
      "✅ Added c:\\Users\\ecosa\\python_uv_mkdocs to Python path\n"
     ]
    }
   ],
   "source": [
    "from setup_imports import setup_imports\n",
    "setup_imports()\n"
   ]
  },
  {
   "cell_type": "code",
   "execution_count": 2,
   "id": "b0d81d1f",
   "metadata": {},
   "outputs": [],
   "source": [
    "from demoprogram import utility, calc"
   ]
  },
  {
   "cell_type": "code",
   "execution_count": 3,
   "id": "54912197",
   "metadata": {},
   "outputs": [
    {
     "name": "stdout",
     "output_type": "stream",
     "text": [
      "=== Demo Program Package Usage ===\n",
      "\n",
      "1. Utility Functions:\n",
      "------------------------------\n",
      "Original text: Hello, World!\n",
      "Reversed: !dlroW ,olleH\n",
      "Word count: 2\n",
      "Is 'racecar' a palindrome? True\n",
      "Is 'hello' a palindrome? False\n",
      "\n",
      "System info: {'platform': 'win32', 'python_version': '3.11.4 | packaged by Anaconda, Inc. | (main, Jul  5 2023, 13:47:18) [MSC v.1916 64 bit (AMD64)]', 'executable': 'c:\\\\Users\\\\ecosa\\\\miniconda3\\\\python.exe'}\n",
      "\n",
      "==================================================\n",
      "\n",
      "2. Arithmetic Functions:\n",
      "------------------------------\n",
      "Addition: 10 + 3 = 13\n",
      "Subtraction: 10 - 3 = 7\n",
      "Multiplication: 10 * 3 = 30\n",
      "Division: 10 / 3 = 3.33\n",
      "Power: 10 ^ 3 = 1000\n"
     ]
    }
   ],
   "source": [
    "print(\"=== Demo Program Package Usage ===\\n\")\n",
    "    \n",
    "# Demo utility functions\n",
    "print(\"1. Utility Functions:\")\n",
    "print(\"-\" * 30)\n",
    "\n",
    "# String utilities\n",
    "text = \"Hello, World!\"\n",
    "print(f\"Original text: {text}\")\n",
    "print(f\"Reversed: {utility.reverse_string(text)}\")\n",
    "print(f\"Word count: {utility.count_words(text)}\")\n",
    "print(f\"Is 'racecar' a palindrome? {utility.is_palindrome('racecar')}\")\n",
    "print(f\"Is 'hello' a palindrome? {utility.is_palindrome('hello')}\")\n",
    "\n",
    "# System info\n",
    "sys_info = utility.get_system_info()\n",
    "print(f\"\\nSystem info: {sys_info}\")\n",
    "\n",
    "print(\"\\n\" + \"=\" * 50 + \"\\n\")\n",
    "\n",
    "# Demo arithmetic functions\n",
    "print(\"2. Arithmetic Functions:\")\n",
    "print(\"-\" * 30)\n",
    "\n",
    "# Basic arithmetic\n",
    "a, b = 10, 3\n",
    "print(f\"Addition: {a} + {b} = {calc.add(a, b)}\")\n",
    "print(f\"Subtraction: {a} - {b} = {calc.subtract(a, b)}\")\n",
    "print(f\"Multiplication: {a} * {b} = {calc.multiply(a, b)}\")\n",
    "print(f\"Division: {a} / {b} = {calc.divide(a, b):.2f}\")\n",
    "print(f\"Power: {a} ^ {b} = {calc.power(a, b)}\")"
   ]
  },
  {
   "cell_type": "code",
   "execution_count": null,
   "id": "95cd5992",
   "metadata": {},
   "outputs": [],
   "source": []
  }
 ],
 "metadata": {
  "kernelspec": {
   "display_name": "base",
   "language": "python",
   "name": "python3"
  },
  "language_info": {
   "codemirror_mode": {
    "name": "ipython",
    "version": 3
   },
   "file_extension": ".py",
   "mimetype": "text/x-python",
   "name": "python",
   "nbconvert_exporter": "python",
   "pygments_lexer": "ipython3",
   "version": "3.11.4"
  }
 },
 "nbformat": 4,
 "nbformat_minor": 5
}
